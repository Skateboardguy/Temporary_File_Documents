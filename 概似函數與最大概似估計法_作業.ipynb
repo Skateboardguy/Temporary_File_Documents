{
 "cells": [
  {
   "cell_type": "raw",
   "id": "35cd7206-98af-497e-9a3d-1d4e3d609e39",
   "metadata": {},
   "source": [
    "作業目的 : 懂得怎麼得到概似函數，且瞭解其概念，然而，找最大值需用到微分的概念(後面的課程)，所以在此不討論。\n",
    "    \n",
    "作業題目 : 若我們有一顆不均勻正反兩面硬幣，且每次投擲結果互相獨立(前一次的結果不影響後一次的結果)，我們想利用概似函數，了解這枚硬幣擲出正面的機率比較可能是 0.5 還是 0.6。於是，我們投擲了三次，其中，兩次出現正面、一次出現反面。"
   ]
  },
  {
   "cell_type": "code",
   "execution_count": 2,
   "id": "1b6435ea-3954-46ad-8939-ba9befb8b8a4",
   "metadata": {},
   "outputs": [],
   "source": [
    "import numpy as np\n",
    "import matplotlib.pyplot as plt"
   ]
  },
  {
   "cell_type": "code",
   "execution_count": 3,
   "id": "089a335d-d2a7-4fa3-86e1-7ebd10c27d4b",
   "metadata": {},
   "outputs": [],
   "source": [
    "# P(x=正面)*P(x=正面)*P(x=反面)\n",
    "def L(θ):\n",
    "    return θ**2 * (1-θ)"
   ]
  },
  {
   "cell_type": "code",
   "execution_count": 9,
   "id": "df1ffdcb-2f72-4d1f-b4f4-8e280324e63f",
   "metadata": {},
   "outputs": [
    {
     "name": "stdout",
     "output_type": "stream",
     "text": [
      "擲出正面的機率較有可能是0.6\n"
     ]
    }
   ],
   "source": [
    "a = 0.5\n",
    "b = 0.6\n",
    "if L(a)<L(b):\n",
    "    print('擲出正面的機率較有可能是%.1f'%b)\n",
    "else:\n",
    "    print('擲出正面的機率較有可能是%.1f'%a)"
   ]
  }
 ],
 "metadata": {
  "kernelspec": {
   "display_name": "Python 3",
   "language": "python",
   "name": "python3"
  },
  "language_info": {
   "codemirror_mode": {
    "name": "ipython",
    "version": 3
   },
   "file_extension": ".py",
   "mimetype": "text/x-python",
   "name": "python",
   "nbconvert_exporter": "python",
   "pygments_lexer": "ipython3",
   "version": "3.8.5"
  }
 },
 "nbformat": 4,
 "nbformat_minor": 5
}
