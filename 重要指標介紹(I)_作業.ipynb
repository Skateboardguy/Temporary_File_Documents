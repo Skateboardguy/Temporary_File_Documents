{
 "cells": [
  {
   "cell_type": "raw",
   "id": "3d41bd08-2286-4faa-a20c-dfe728a0084d",
   "metadata": {},
   "source": [
    "作業目的 : 清楚 entropy 的意義。\n",
    "    \n",
    "作業題目 : \n",
    "    1. 把範例的例子稍加修改，請在計算前先回答此時的 entropy 會比範例中算出的 entropy 來的大/小，原因為何 ? ----> 能顯著判斷\n",
    "    2. 請計算 entropy，驗證 你的回答。"
   ]
  },
  {
   "cell_type": "raw",
   "id": "77a36807-4aa4-4ebf-a424-be0f800cf331",
   "metadata": {},
   "source": [
    "事件描述　：　\n",
    "有一賽事總共 16 支隊伍參賽，假設每一隊拿冠軍的機率相等且某兩隊伍名稱分別為 A 和 B。\n",
    "已知 A 和 B 在過去的 32 次交手中， A 贏了 31 場比賽， B 贏了 1 場比賽。\n",
    "那麼，A 與 B 的比賽結果的 entropy(information entropy) 為多少呢?"
   ]
  },
  {
   "cell_type": "code",
   "execution_count": null,
   "id": "b289d109-7603-4fcf-99ab-447f44e3b4e7",
   "metadata": {},
   "outputs": [],
   "source": [
    "此時的 entropy 會比範例中來的 ?"
   ]
  },
  {
   "cell_type": "code",
   "execution_count": 1,
   "id": "50e5d99b-a871-4dfe-93bd-63b0bd6ddb9c",
   "metadata": {
    "jupyter": {
     "source_hidden": true
    }
   },
   "outputs": [
    {
     "name": "stdout",
     "output_type": "stream",
     "text": [
      "D:\\Python3.9\\AI數學馬拉松\n",
      "1.5.1\n"
     ]
    }
   ],
   "source": [
    "import numpy as np\n",
    "import pandas as pd\n",
    "import math \n",
    "import os\n",
    "import matplotlib as mpl\n",
    "import matplotlib.pyplot as plt\n",
    "import seaborn as sns\n",
    "print(os.getcwd())\n",
    "from scipy import stats\n",
    "from scipy.stats import chi2_contingency #卡方檢定 & Crames'v\n",
    "import statistics\n",
    "from IPython.display import display  #在jupyter notebook 使用預覽畫面\n",
    "import sklearn\n",
    "print(sklearn.__version__)\n",
    "#如果只有 0.19 記得要更新至 最新版本\n",
    "%matplotlib inline\n",
    "# 特徵選取會用到的函數\n",
    "from sklearn.feature_selection import VarianceThreshold\n",
    "from sklearn import preprocessing\n",
    "\n",
    "import pingouin as pg  # ANOVA 單因子及變數顯著性分析 (https://pingouin-stats.org/build/html/index.html)\n",
    "import researchpy      #Cramér's V（克拉梅V係數）\n",
    "plt.rcParams['font.family'] = 'Microsoft JhengHei' #顯示中文字(Windows)\n",
    "#plt.rcParams['font.family'] = 'Heiti TC' #顯示中文字(Mac OS)\n"
   ]
  },
  {
   "cell_type": "code",
   "execution_count": 2,
   "id": "c6458749-9e68-4b36-9dc4-f0294a858d91",
   "metadata": {},
   "outputs": [
    {
     "data": {
      "text/plain": [
       "0.20062232431271465"
      ]
     },
     "execution_count": 2,
     "metadata": {},
     "output_type": "execute_result"
    }
   ],
   "source": [
    "P_X1 = 31/32\n",
    "P_X2 = 1/32\n",
    "\n",
    "H = - ( P_X1*np.log2(P_X1) + P_X2*np.log2(P_X2) )\n",
    "H"
   ]
  },
  {
   "cell_type": "markdown",
   "id": "3d478a44-0bac-4e85-af4f-d1cba83eb69b",
   "metadata": {},
   "source": [
    "# <font color = 'red'>能顯著判斷A隊強於B隊<font>"
   ]
  },
  {
   "cell_type": "code",
   "execution_count": null,
   "id": "5bf568d9-7847-47a1-aaf8-c2963ba35e60",
   "metadata": {},
   "outputs": [],
   "source": []
  }
 ],
 "metadata": {
  "kernelspec": {
   "display_name": "Python 3.9 (myenv39)",
   "language": "python",
   "name": "myenv39"
  },
  "language_info": {
   "codemirror_mode": {
    "name": "ipython",
    "version": 3
   },
   "file_extension": ".py",
   "mimetype": "text/x-python",
   "name": "python",
   "nbconvert_exporter": "python",
   "pygments_lexer": "ipython3",
   "version": "3.12.7"
  }
 },
 "nbformat": 4,
 "nbformat_minor": 5
}
