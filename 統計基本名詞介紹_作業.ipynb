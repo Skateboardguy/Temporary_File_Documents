{
 "cells": [
  {
   "cell_type": "markdown",
   "id": "9477a2ee-6bbc-44ae-8652-bb659c0c1b38",
   "metadata": {},
   "source": [
    "作業目的 : 熟悉重要統計名詞。\n",
    "    \n",
    "作業題目 : 利用以上三個函數算出下列數據的「算術平均數」、「變異數」即「標準差」。"
   ]
  },
  {
   "cell_type": "code",
   "execution_count": 1,
   "id": "693abe84-a1dd-4ee7-99f3-7190af5405c9",
   "metadata": {},
   "outputs": [],
   "source": [
    "import numpy as np\n",
    "\n",
    "# 數據\n",
    "data = np.array([12,14,16,18,20,35,37,39,10,90])"
   ]
  },
  {
   "cell_type": "code",
   "execution_count": 2,
   "id": "02f5f61c-afa8-4125-b538-ecdc5e9dd250",
   "metadata": {},
   "outputs": [],
   "source": [
    "# 底下函數輸入皆為一個 list or array\n",
    "\n",
    "def Fcn_1(x):\n",
    "    return round(sum(x)/len(x),3)\n",
    "\n",
    "def Fcn_2(x):\n",
    "    return round(sum((x - Fcn_1(x))**2)/len(x),3)\n",
    "\n",
    "def Fcn_3(x):\n",
    "    return round(np.sqrt(Fcn_2(x)),3)"
   ]
  },
  {
   "cell_type": "markdown",
   "id": "250f220c-8562-4a13-8d71-f22aff88780a",
   "metadata": {},
   "source": [
    "算術平均數"
   ]
  },
  {
   "cell_type": "code",
   "execution_count": 4,
   "id": "34c7e250-ad28-4c3c-bf27-8a1ecc9326c8",
   "metadata": {},
   "outputs": [
    {
     "data": {
      "text/plain": [
       "29.1"
      ]
     },
     "execution_count": 4,
     "metadata": {},
     "output_type": "execute_result"
    }
   ],
   "source": [
    "avg = Fcn_1(data)\n",
    "avg"
   ]
  },
  {
   "cell_type": "markdown",
   "id": "0674907a-082e-48fc-b93c-5a16fe3e20b5",
   "metadata": {},
   "source": [
    "變異數"
   ]
  },
  {
   "cell_type": "code",
   "execution_count": 5,
   "id": "6c975f78-92fe-4b61-8ab2-bf038061a19e",
   "metadata": {},
   "outputs": [
    {
     "data": {
      "text/plain": [
       "516.69"
      ]
     },
     "execution_count": 5,
     "metadata": {},
     "output_type": "execute_result"
    }
   ],
   "source": [
    "var = Fcn_2(data)\n",
    "var"
   ]
  },
  {
   "cell_type": "markdown",
   "id": "3d817ba8-a6c7-4733-b861-58c4fe5c758e",
   "metadata": {},
   "source": [
    "標準差"
   ]
  },
  {
   "cell_type": "code",
   "execution_count": 6,
   "id": "20b84de4-2d93-4ff2-8952-96fb5cbcf7ae",
   "metadata": {},
   "outputs": [
    {
     "data": {
      "text/plain": [
       "22.731"
      ]
     },
     "execution_count": 6,
     "metadata": {},
     "output_type": "execute_result"
    }
   ],
   "source": [
    "std = Fcn_3(data)\n",
    "std"
   ]
  }
 ],
 "metadata": {
  "kernelspec": {
   "display_name": "Python 3 (ipykernel)",
   "language": "python",
   "name": "python3"
  },
  "language_info": {
   "codemirror_mode": {
    "name": "ipython",
    "version": 3
   },
   "file_extension": ".py",
   "mimetype": "text/x-python",
   "name": "python",
   "nbconvert_exporter": "python",
   "pygments_lexer": "ipython3",
   "version": "3.12.7"
  }
 },
 "nbformat": 4,
 "nbformat_minor": 5
}
