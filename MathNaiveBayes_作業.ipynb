{
 "cells": [
  {
   "cell_type": "markdown",
   "metadata": {
    "id": "nYAKrtVelas-"
   },
   "source": [
    "教室裡有24人，8人熱愛運動，14人是男生，男生且熱愛運動有5人，假設某A喜歡運動，此人為男生的機率是多少？"
   ]
  },
  {
   "cell_type": "code",
   "execution_count": null,
   "metadata": {
    "id": "LnqRtf65kXd7"
   },
   "outputs": [],
   "source": []
  },
  {
   "cell_type": "code",
   "execution_count": null,
   "metadata": {},
   "outputs": [],
   "source": [
    "P(愛運動|24) =1/3\n",
    "P(男生)= 14/24 = 7/12\n",
    "P(愛運動|男生)=5/14\n",
    "p(男生|愛運動) = P(愛運動|男生) * P(男生) / P(愛運動)"
   ]
  },
  {
   "cell_type": "code",
   "execution_count": 2,
   "metadata": {},
   "outputs": [
    {
     "data": {
      "text/plain": [
       "0.6250000000000001"
      ]
     },
     "execution_count": 2,
     "metadata": {},
     "output_type": "execute_result"
    }
   ],
   "source": [
    "p_男生_愛運動 = ((5/14)*(7/12))/(1/3)\n",
    "p_男生_愛運動"
   ]
  }
 ],
 "metadata": {
  "colab": {
   "authorship_tag": "ABX9TyMcbvD16otdGA7KtnblgfOA",
   "name": "MathNaiveBayes_作業.ipynb",
   "provenance": [
    {
     "file_id": "1TSX0Io-wbsba6ULpr4i2HygaEc9HsQIr",
     "timestamp": 1635755075705
    }
   ]
  },
  "kernelspec": {
   "display_name": "Python 3 (ipykernel)",
   "language": "python",
   "name": "python3"
  },
  "language_info": {
   "codemirror_mode": {
    "name": "ipython",
    "version": 3
   },
   "file_extension": ".py",
   "mimetype": "text/x-python",
   "name": "python",
   "nbconvert_exporter": "python",
   "pygments_lexer": "ipython3",
   "version": "3.12.7"
  }
 },
 "nbformat": 4,
 "nbformat_minor": 4
}
